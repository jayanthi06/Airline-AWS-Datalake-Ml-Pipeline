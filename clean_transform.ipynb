{
 "cells": [
  {
   "cell_type": "code",
   "execution_count": null,
   "id": "319f5934-e009-4368-9f41-f2980dc55a04",
   "metadata": {},
   "outputs": [],
   "source": [
    "import pyarrow.parquet as pq\n",
    "import io\n",
    "import boto3\n",
    "import pandas as pd\n",
    "\n",
    "def lambda_handler(event, context):\n",
    "    s3 = boto3.client('s3')\n",
    "\n",
    "    # Extract bucket and object key from the event\n",
    "    bucket = event['Records'][0]['s3']['bucket']['name']\n",
    "    key = event['Records'][0]['s3']['object']['key']\n",
    "\n",
    "    # 📥 Read Parquet file from S3\n",
    "    response = s3.get_object(Bucket=bucket, Key=key)\n",
    "    buffer = io.BytesIO(response['Body'].read())\n",
    "    df = pd.read_parquet(buffer, engine='pyarrow')\n",
    "\n",
    "    # ✅ Apply transformation (example: drop null rows)\n",
    "    df_cleaned = df.dropna()\n",
    "\n",
    "    # 💾 Save cleaned DataFrame as Parquet again\n",
    "    out_buffer = io.BytesIO()\n",
    "    df_cleaned.to_parquet(out_buffer, index=False, engine='pyarrow')\n",
    "\n",
    "    # 📤 Write back to S3 processed/ folder\n",
    "    new_key = key.replace(\"raw/\", \"processed/\")\n",
    "    s3.put_object(Bucket=bucket, Key=new_key, Body=out_buffer.getvalue())\n",
    "\n",
    "    return {\n",
    "        'statusCode': 200,\n",
    "        'body': f\"Transformed file uploaded to: {new_key}\"\n",
    "    }\n"
   ]
  }
 ],
 "metadata": {
  "kernelspec": {
   "display_name": "Python [conda env:base] *",
   "language": "python",
   "name": "conda-base-py"
  },
  "language_info": {
   "codemirror_mode": {
    "name": "ipython",
    "version": 3
   },
   "file_extension": ".py",
   "mimetype": "text/x-python",
   "name": "python",
   "nbconvert_exporter": "python",
   "pygments_lexer": "ipython3",
   "version": "3.12.7"
  }
 },
 "nbformat": 4,
 "nbformat_minor": 5
}
